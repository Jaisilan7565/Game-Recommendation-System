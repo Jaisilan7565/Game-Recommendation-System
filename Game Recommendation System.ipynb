{
 "cells": [
  {
   "cell_type": "markdown",
   "id": "7cbb304b",
   "metadata": {},
   "source": [
    "# Steam Game Recommendation System"
   ]
  },
  {
   "cell_type": "markdown",
   "id": "eaf450b3",
   "metadata": {},
   "source": [
    "In this notebook, we'll explore the realm of game recommendations within Steam, the leading digital distribution platform for PC gaming. Our main objective is to construct a robust recommendation system utilizing collaborative filtering, content-based filtering, and a hybrid approach merging both methods, along with association rule mining.\n",
    "\n",
    "This streamlined recommendation system aims to enrich user interaction on the platform by delivering tailored game recommendations derived from their preferences and those of comparable users.\n"
   ]
  },
  {
   "cell_type": "markdown",
   "id": "bd7e36d3",
   "metadata": {},
   "source": [
    "# Importing Dependencies"
   ]
  },
  {
   "cell_type": "code",
   "execution_count": 78,
   "id": "a5a7c9fa",
   "metadata": {},
   "outputs": [],
   "source": [
    "import numpy as np\n",
    "import pandas as pd\n",
    "import matplotlib.pyplot as plt\n",
    "import seaborn as sns\n",
    "import random\n",
    "import datetime as dt\n",
    "from sklearn.neighbors import NearestNeighbors\n",
    "from sklearn.feature_extraction.text import TfidfVectorizer\n",
    "from sklearn.metrics.pairwise import linear_kernel\n",
    "from scipy.sparse import csr_matrix\n",
    "import warnings\n",
    "warnings.filterwarnings('ignore')"
   ]
  },
  {
   "cell_type": "markdown",
   "id": "558d98c8",
   "metadata": {},
   "source": [
    "## Data Loading and Preparation:\n",
    "In this section, three datasets: games, users, and recommendations are loaded and processed. The data is also chunked to manage memory effectively using generator functions"
   ]
  },
  {
   "cell_type": "code",
   "execution_count": 79,
   "id": "d32f6e85",
   "metadata": {},
   "outputs": [],
   "source": [
    "# Function to reduce the memory usage of a DataFrame.\n",
    "def reduce_memory(df):\n",
    "    for col in df.columns:\n",
    "        if df[col].dtype == 'float64':\n",
    "            df[col] = df[col].astype('float32')\n",
    "        if df[col].dtype == 'int64':\n",
    "            df[col] = df[col].astype('int32')\n",
    "    return df\n",
    "\n",
    "# Generator function to load data in chunks.\n",
    "def data_generator(df, chunksize=10000):\n",
    "    for i in range(0, df.shape[0], chunksize):\n",
    "        yield df.iloc[i:i+chunksize]\n",
    "        \n",
    "# Load data\n",
    "games_df = reduce_memory(pd.read_csv(r'games.csv'))\n",
    "users_df = reduce_memory(pd.read_csv(r'users.csv'))\n",
    "recommendations_df = reduce_memory(pd.read_csv(r'recommendations.csv'))"
   ]
  },
  {
   "cell_type": "code",
   "execution_count": 80,
   "id": "125fc523",
   "metadata": {},
   "outputs": [
    {
     "data": {
      "text/html": [
       "<div>\n",
       "<style scoped>\n",
       "    .dataframe tbody tr th:only-of-type {\n",
       "        vertical-align: middle;\n",
       "    }\n",
       "\n",
       "    .dataframe tbody tr th {\n",
       "        vertical-align: top;\n",
       "    }\n",
       "\n",
       "    .dataframe thead th {\n",
       "        text-align: right;\n",
       "    }\n",
       "</style>\n",
       "<table border=\"1\" class=\"dataframe\">\n",
       "  <thead>\n",
       "    <tr style=\"text-align: right;\">\n",
       "      <th></th>\n",
       "      <th>app_id</th>\n",
       "      <th>title</th>\n",
       "      <th>date_release</th>\n",
       "      <th>win</th>\n",
       "      <th>mac</th>\n",
       "      <th>linux</th>\n",
       "      <th>rating</th>\n",
       "      <th>positive_ratio</th>\n",
       "      <th>user_reviews</th>\n",
       "      <th>price_final</th>\n",
       "      <th>price_original</th>\n",
       "      <th>discount</th>\n",
       "      <th>steam_deck</th>\n",
       "    </tr>\n",
       "  </thead>\n",
       "  <tbody>\n",
       "    <tr>\n",
       "      <th>0</th>\n",
       "      <td>13500</td>\n",
       "      <td>Prince of Persia: Warrior Within™</td>\n",
       "      <td>21-11-2008</td>\n",
       "      <td>True</td>\n",
       "      <td>False</td>\n",
       "      <td>False</td>\n",
       "      <td>Very Positive</td>\n",
       "      <td>84</td>\n",
       "      <td>2199</td>\n",
       "      <td>9.99</td>\n",
       "      <td>9.99</td>\n",
       "      <td>0</td>\n",
       "      <td>True</td>\n",
       "    </tr>\n",
       "    <tr>\n",
       "      <th>1</th>\n",
       "      <td>22364</td>\n",
       "      <td>BRINK: Agents of Change</td>\n",
       "      <td>03-08-2011</td>\n",
       "      <td>True</td>\n",
       "      <td>False</td>\n",
       "      <td>False</td>\n",
       "      <td>Positive</td>\n",
       "      <td>85</td>\n",
       "      <td>21</td>\n",
       "      <td>2.99</td>\n",
       "      <td>2.99</td>\n",
       "      <td>0</td>\n",
       "      <td>True</td>\n",
       "    </tr>\n",
       "    <tr>\n",
       "      <th>2</th>\n",
       "      <td>113020</td>\n",
       "      <td>Monaco: What's Yours Is Mine</td>\n",
       "      <td>24-04-2013</td>\n",
       "      <td>True</td>\n",
       "      <td>True</td>\n",
       "      <td>True</td>\n",
       "      <td>Very Positive</td>\n",
       "      <td>92</td>\n",
       "      <td>3722</td>\n",
       "      <td>14.99</td>\n",
       "      <td>14.99</td>\n",
       "      <td>0</td>\n",
       "      <td>True</td>\n",
       "    </tr>\n",
       "    <tr>\n",
       "      <th>3</th>\n",
       "      <td>226560</td>\n",
       "      <td>Escape Dead Island</td>\n",
       "      <td>18-11-2014</td>\n",
       "      <td>True</td>\n",
       "      <td>False</td>\n",
       "      <td>False</td>\n",
       "      <td>Mixed</td>\n",
       "      <td>61</td>\n",
       "      <td>873</td>\n",
       "      <td>14.99</td>\n",
       "      <td>14.99</td>\n",
       "      <td>0</td>\n",
       "      <td>True</td>\n",
       "    </tr>\n",
       "    <tr>\n",
       "      <th>4</th>\n",
       "      <td>249050</td>\n",
       "      <td>Dungeon of the ENDLESS™</td>\n",
       "      <td>27-10-2014</td>\n",
       "      <td>True</td>\n",
       "      <td>True</td>\n",
       "      <td>False</td>\n",
       "      <td>Very Positive</td>\n",
       "      <td>88</td>\n",
       "      <td>8784</td>\n",
       "      <td>11.99</td>\n",
       "      <td>11.99</td>\n",
       "      <td>0</td>\n",
       "      <td>True</td>\n",
       "    </tr>\n",
       "  </tbody>\n",
       "</table>\n",
       "</div>"
      ],
      "text/plain": [
       "   app_id                              title date_release   win    mac  linux  \\\n",
       "0   13500  Prince of Persia: Warrior Within™   21-11-2008  True  False  False   \n",
       "1   22364            BRINK: Agents of Change   03-08-2011  True  False  False   \n",
       "2  113020       Monaco: What's Yours Is Mine   24-04-2013  True   True   True   \n",
       "3  226560                 Escape Dead Island   18-11-2014  True  False  False   \n",
       "4  249050            Dungeon of the ENDLESS™   27-10-2014  True   True  False   \n",
       "\n",
       "          rating  positive_ratio  user_reviews  price_final  price_original  \\\n",
       "0  Very Positive              84          2199         9.99            9.99   \n",
       "1       Positive              85            21         2.99            2.99   \n",
       "2  Very Positive              92          3722        14.99           14.99   \n",
       "3          Mixed              61           873        14.99           14.99   \n",
       "4  Very Positive              88          8784        11.99           11.99   \n",
       "\n",
       "   discount  steam_deck  \n",
       "0         0        True  \n",
       "1         0        True  \n",
       "2         0        True  \n",
       "3         0        True  \n",
       "4         0        True  "
      ]
     },
     "execution_count": 80,
     "metadata": {},
     "output_type": "execute_result"
    }
   ],
   "source": [
    "games_df.head()"
   ]
  },
  {
   "cell_type": "code",
   "execution_count": 81,
   "id": "f664a0b8",
   "metadata": {},
   "outputs": [
    {
     "data": {
      "text/html": [
       "<div>\n",
       "<style scoped>\n",
       "    .dataframe tbody tr th:only-of-type {\n",
       "        vertical-align: middle;\n",
       "    }\n",
       "\n",
       "    .dataframe tbody tr th {\n",
       "        vertical-align: top;\n",
       "    }\n",
       "\n",
       "    .dataframe thead th {\n",
       "        text-align: right;\n",
       "    }\n",
       "</style>\n",
       "<table border=\"1\" class=\"dataframe\">\n",
       "  <thead>\n",
       "    <tr style=\"text-align: right;\">\n",
       "      <th></th>\n",
       "      <th>user_id</th>\n",
       "      <th>products</th>\n",
       "      <th>reviews</th>\n",
       "    </tr>\n",
       "  </thead>\n",
       "  <tbody>\n",
       "    <tr>\n",
       "      <th>0</th>\n",
       "      <td>7360263</td>\n",
       "      <td>359</td>\n",
       "      <td>0</td>\n",
       "    </tr>\n",
       "    <tr>\n",
       "      <th>1</th>\n",
       "      <td>14020781</td>\n",
       "      <td>156</td>\n",
       "      <td>1</td>\n",
       "    </tr>\n",
       "    <tr>\n",
       "      <th>2</th>\n",
       "      <td>8762579</td>\n",
       "      <td>329</td>\n",
       "      <td>4</td>\n",
       "    </tr>\n",
       "    <tr>\n",
       "      <th>3</th>\n",
       "      <td>4820647</td>\n",
       "      <td>176</td>\n",
       "      <td>4</td>\n",
       "    </tr>\n",
       "    <tr>\n",
       "      <th>4</th>\n",
       "      <td>5167327</td>\n",
       "      <td>98</td>\n",
       "      <td>2</td>\n",
       "    </tr>\n",
       "  </tbody>\n",
       "</table>\n",
       "</div>"
      ],
      "text/plain": [
       "    user_id  products  reviews\n",
       "0   7360263       359        0\n",
       "1  14020781       156        1\n",
       "2   8762579       329        4\n",
       "3   4820647       176        4\n",
       "4   5167327        98        2"
      ]
     },
     "execution_count": 81,
     "metadata": {},
     "output_type": "execute_result"
    }
   ],
   "source": [
    "users_df.head()"
   ]
  },
  {
   "cell_type": "code",
   "execution_count": 82,
   "id": "9fb4ed8d",
   "metadata": {},
   "outputs": [
    {
     "data": {
      "text/html": [
       "<div>\n",
       "<style scoped>\n",
       "    .dataframe tbody tr th:only-of-type {\n",
       "        vertical-align: middle;\n",
       "    }\n",
       "\n",
       "    .dataframe tbody tr th {\n",
       "        vertical-align: top;\n",
       "    }\n",
       "\n",
       "    .dataframe thead th {\n",
       "        text-align: right;\n",
       "    }\n",
       "</style>\n",
       "<table border=\"1\" class=\"dataframe\">\n",
       "  <thead>\n",
       "    <tr style=\"text-align: right;\">\n",
       "      <th></th>\n",
       "      <th>app_id</th>\n",
       "      <th>helpful</th>\n",
       "      <th>funny</th>\n",
       "      <th>date</th>\n",
       "      <th>is_recommended</th>\n",
       "      <th>hours</th>\n",
       "      <th>user_id</th>\n",
       "      <th>review_id</th>\n",
       "    </tr>\n",
       "  </thead>\n",
       "  <tbody>\n",
       "    <tr>\n",
       "      <th>0</th>\n",
       "      <td>975370</td>\n",
       "      <td>0</td>\n",
       "      <td>0</td>\n",
       "      <td>12-12-2022</td>\n",
       "      <td>True</td>\n",
       "      <td>36.299999</td>\n",
       "      <td>51580</td>\n",
       "      <td>0</td>\n",
       "    </tr>\n",
       "    <tr>\n",
       "      <th>1</th>\n",
       "      <td>304390</td>\n",
       "      <td>4</td>\n",
       "      <td>0</td>\n",
       "      <td>17-02-2017</td>\n",
       "      <td>False</td>\n",
       "      <td>11.500000</td>\n",
       "      <td>2586</td>\n",
       "      <td>1</td>\n",
       "    </tr>\n",
       "    <tr>\n",
       "      <th>2</th>\n",
       "      <td>1085660</td>\n",
       "      <td>2</td>\n",
       "      <td>0</td>\n",
       "      <td>17-11-2019</td>\n",
       "      <td>True</td>\n",
       "      <td>336.500000</td>\n",
       "      <td>253880</td>\n",
       "      <td>2</td>\n",
       "    </tr>\n",
       "    <tr>\n",
       "      <th>3</th>\n",
       "      <td>703080</td>\n",
       "      <td>0</td>\n",
       "      <td>0</td>\n",
       "      <td>23-09-2022</td>\n",
       "      <td>True</td>\n",
       "      <td>27.400000</td>\n",
       "      <td>259432</td>\n",
       "      <td>3</td>\n",
       "    </tr>\n",
       "    <tr>\n",
       "      <th>4</th>\n",
       "      <td>526870</td>\n",
       "      <td>0</td>\n",
       "      <td>0</td>\n",
       "      <td>10-01-2021</td>\n",
       "      <td>True</td>\n",
       "      <td>7.900000</td>\n",
       "      <td>23869</td>\n",
       "      <td>4</td>\n",
       "    </tr>\n",
       "  </tbody>\n",
       "</table>\n",
       "</div>"
      ],
      "text/plain": [
       "    app_id  helpful  funny        date  is_recommended       hours  user_id  \\\n",
       "0   975370        0      0  12-12-2022            True   36.299999    51580   \n",
       "1   304390        4      0  17-02-2017           False   11.500000     2586   \n",
       "2  1085660        2      0  17-11-2019            True  336.500000   253880   \n",
       "3   703080        0      0  23-09-2022            True   27.400000   259432   \n",
       "4   526870        0      0  10-01-2021            True    7.900000    23869   \n",
       "\n",
       "   review_id  \n",
       "0          0  \n",
       "1          1  \n",
       "2          2  \n",
       "3          3  \n",
       "4          4  "
      ]
     },
     "execution_count": 82,
     "metadata": {},
     "output_type": "execute_result"
    }
   ],
   "source": [
    "recommendations_df.head()"
   ]
  },
  {
   "cell_type": "markdown",
   "id": "baed5c7d",
   "metadata": {},
   "source": [
    "# Exploratory Data Analysis\n",
    "Exploratory data analysis (EDA) in a game recommendation system project is essential for understanding dataset characteristics, user preferences, and interaction patterns. By exploring data distributions and trends, we identify relevant features and variables for recommendation algorithms. This analysis guides us in refining and optimizing the system for improved performance and user satisfaction."
   ]
  },
  {
   "cell_type": "code",
   "execution_count": 83,
   "id": "7f537a7d",
   "metadata": {},
   "outputs": [
    {
     "data": {
      "text/plain": [
       "(50872, 13)"
      ]
     },
     "execution_count": 83,
     "metadata": {},
     "output_type": "execute_result"
    }
   ],
   "source": [
    "# Games Data\n",
    "games_df.shape"
   ]
  },
  {
   "cell_type": "code",
   "execution_count": 84,
   "id": "36d6ece2",
   "metadata": {},
   "outputs": [
    {
     "data": {
      "text/plain": [
       "app_id              int32\n",
       "title              object\n",
       "date_release       object\n",
       "win                  bool\n",
       "mac                  bool\n",
       "linux                bool\n",
       "rating             object\n",
       "positive_ratio      int32\n",
       "user_reviews        int32\n",
       "price_final       float32\n",
       "price_original    float32\n",
       "discount            int32\n",
       "steam_deck           bool\n",
       "dtype: object"
      ]
     },
     "execution_count": 84,
     "metadata": {},
     "output_type": "execute_result"
    }
   ],
   "source": [
    "games_df.dtypes"
   ]
  },
  {
   "cell_type": "code",
   "execution_count": 85,
   "id": "de95c406",
   "metadata": {},
   "outputs": [],
   "source": [
    "# Converting  the date_release columns to Datatime object\n",
    "games_df['date_release']=pd.to_datetime(games_df['date_release'])"
   ]
  },
  {
   "cell_type": "code",
   "execution_count": 86,
   "id": "c9ffc1a8",
   "metadata": {
    "scrolled": true
   },
   "outputs": [
    {
     "data": {
      "text/plain": [
       "app_id                     int32\n",
       "title                     object\n",
       "date_release      datetime64[ns]\n",
       "win                         bool\n",
       "mac                         bool\n",
       "linux                       bool\n",
       "rating                    object\n",
       "positive_ratio             int32\n",
       "user_reviews               int32\n",
       "price_final              float32\n",
       "price_original           float32\n",
       "discount                   int32\n",
       "steam_deck                  bool\n",
       "dtype: object"
      ]
     },
     "execution_count": 86,
     "metadata": {},
     "output_type": "execute_result"
    }
   ],
   "source": [
    "games_df.dtypes"
   ]
  },
  {
   "cell_type": "code",
   "execution_count": 87,
   "id": "61309015",
   "metadata": {},
   "outputs": [
    {
     "data": {
      "text/html": [
       "<div>\n",
       "<style scoped>\n",
       "    .dataframe tbody tr th:only-of-type {\n",
       "        vertical-align: middle;\n",
       "    }\n",
       "\n",
       "    .dataframe tbody tr th {\n",
       "        vertical-align: top;\n",
       "    }\n",
       "\n",
       "    .dataframe thead th {\n",
       "        text-align: right;\n",
       "    }\n",
       "</style>\n",
       "<table border=\"1\" class=\"dataframe\">\n",
       "  <thead>\n",
       "    <tr style=\"text-align: right;\">\n",
       "      <th></th>\n",
       "      <th>app_id</th>\n",
       "      <th>title</th>\n",
       "      <th>date_release</th>\n",
       "      <th>win</th>\n",
       "      <th>mac</th>\n",
       "      <th>linux</th>\n",
       "      <th>rating</th>\n",
       "      <th>positive_ratio</th>\n",
       "      <th>user_reviews</th>\n",
       "      <th>price_final</th>\n",
       "      <th>price_original</th>\n",
       "      <th>discount</th>\n",
       "      <th>steam_deck</th>\n",
       "    </tr>\n",
       "  </thead>\n",
       "  <tbody>\n",
       "    <tr>\n",
       "      <th>count</th>\n",
       "      <td>5.087200e+04</td>\n",
       "      <td>50872</td>\n",
       "      <td>50872</td>\n",
       "      <td>50872</td>\n",
       "      <td>50872</td>\n",
       "      <td>50872</td>\n",
       "      <td>50872</td>\n",
       "      <td>50872.000000</td>\n",
       "      <td>5.087200e+04</td>\n",
       "      <td>50872.000000</td>\n",
       "      <td>50872.000000</td>\n",
       "      <td>50872.000000</td>\n",
       "      <td>50872</td>\n",
       "    </tr>\n",
       "    <tr>\n",
       "      <th>unique</th>\n",
       "      <td>NaN</td>\n",
       "      <td>50751</td>\n",
       "      <td>NaN</td>\n",
       "      <td>2</td>\n",
       "      <td>2</td>\n",
       "      <td>2</td>\n",
       "      <td>9</td>\n",
       "      <td>NaN</td>\n",
       "      <td>NaN</td>\n",
       "      <td>NaN</td>\n",
       "      <td>NaN</td>\n",
       "      <td>NaN</td>\n",
       "      <td>2</td>\n",
       "    </tr>\n",
       "    <tr>\n",
       "      <th>top</th>\n",
       "      <td>NaN</td>\n",
       "      <td>Loop</td>\n",
       "      <td>NaN</td>\n",
       "      <td>True</td>\n",
       "      <td>False</td>\n",
       "      <td>False</td>\n",
       "      <td>Positive</td>\n",
       "      <td>NaN</td>\n",
       "      <td>NaN</td>\n",
       "      <td>NaN</td>\n",
       "      <td>NaN</td>\n",
       "      <td>NaN</td>\n",
       "      <td>True</td>\n",
       "    </tr>\n",
       "    <tr>\n",
       "      <th>freq</th>\n",
       "      <td>NaN</td>\n",
       "      <td>4</td>\n",
       "      <td>NaN</td>\n",
       "      <td>50076</td>\n",
       "      <td>37854</td>\n",
       "      <td>41831</td>\n",
       "      <td>13502</td>\n",
       "      <td>NaN</td>\n",
       "      <td>NaN</td>\n",
       "      <td>NaN</td>\n",
       "      <td>NaN</td>\n",
       "      <td>NaN</td>\n",
       "      <td>50870</td>\n",
       "    </tr>\n",
       "    <tr>\n",
       "      <th>mean</th>\n",
       "      <td>1.055224e+06</td>\n",
       "      <td>NaN</td>\n",
       "      <td>2019-03-13 03:53:57.112753664</td>\n",
       "      <td>NaN</td>\n",
       "      <td>NaN</td>\n",
       "      <td>NaN</td>\n",
       "      <td>NaN</td>\n",
       "      <td>77.052033</td>\n",
       "      <td>1.824425e+03</td>\n",
       "      <td>8.620325</td>\n",
       "      <td>8.726789</td>\n",
       "      <td>5.592212</td>\n",
       "      <td>NaN</td>\n",
       "    </tr>\n",
       "    <tr>\n",
       "      <th>min</th>\n",
       "      <td>1.000000e+01</td>\n",
       "      <td>NaN</td>\n",
       "      <td>1997-06-30 00:00:00</td>\n",
       "      <td>NaN</td>\n",
       "      <td>NaN</td>\n",
       "      <td>NaN</td>\n",
       "      <td>NaN</td>\n",
       "      <td>0.000000</td>\n",
       "      <td>1.000000e+01</td>\n",
       "      <td>0.000000</td>\n",
       "      <td>0.000000</td>\n",
       "      <td>0.000000</td>\n",
       "      <td>NaN</td>\n",
       "    </tr>\n",
       "    <tr>\n",
       "      <th>25%</th>\n",
       "      <td>5.287375e+05</td>\n",
       "      <td>NaN</td>\n",
       "      <td>2017-03-21 00:00:00</td>\n",
       "      <td>NaN</td>\n",
       "      <td>NaN</td>\n",
       "      <td>NaN</td>\n",
       "      <td>NaN</td>\n",
       "      <td>67.000000</td>\n",
       "      <td>1.900000e+01</td>\n",
       "      <td>0.990000</td>\n",
       "      <td>0.990000</td>\n",
       "      <td>0.000000</td>\n",
       "      <td>NaN</td>\n",
       "    </tr>\n",
       "    <tr>\n",
       "      <th>50%</th>\n",
       "      <td>9.860850e+05</td>\n",
       "      <td>NaN</td>\n",
       "      <td>2019-08-23 00:00:00</td>\n",
       "      <td>NaN</td>\n",
       "      <td>NaN</td>\n",
       "      <td>NaN</td>\n",
       "      <td>NaN</td>\n",
       "      <td>81.000000</td>\n",
       "      <td>4.900000e+01</td>\n",
       "      <td>4.990000</td>\n",
       "      <td>4.990000</td>\n",
       "      <td>0.000000</td>\n",
       "      <td>NaN</td>\n",
       "    </tr>\n",
       "    <tr>\n",
       "      <th>75%</th>\n",
       "      <td>1.524895e+06</td>\n",
       "      <td>NaN</td>\n",
       "      <td>2021-09-21 00:00:00</td>\n",
       "      <td>NaN</td>\n",
       "      <td>NaN</td>\n",
       "      <td>NaN</td>\n",
       "      <td>NaN</td>\n",
       "      <td>91.000000</td>\n",
       "      <td>2.060000e+02</td>\n",
       "      <td>10.990000</td>\n",
       "      <td>11.990000</td>\n",
       "      <td>0.000000</td>\n",
       "      <td>NaN</td>\n",
       "    </tr>\n",
       "    <tr>\n",
       "      <th>max</th>\n",
       "      <td>2.599300e+06</td>\n",
       "      <td>NaN</td>\n",
       "      <td>2023-10-24 00:00:00</td>\n",
       "      <td>NaN</td>\n",
       "      <td>NaN</td>\n",
       "      <td>NaN</td>\n",
       "      <td>NaN</td>\n",
       "      <td>100.000000</td>\n",
       "      <td>7.494460e+06</td>\n",
       "      <td>299.989990</td>\n",
       "      <td>299.989990</td>\n",
       "      <td>90.000000</td>\n",
       "      <td>NaN</td>\n",
       "    </tr>\n",
       "    <tr>\n",
       "      <th>std</th>\n",
       "      <td>6.103249e+05</td>\n",
       "      <td>NaN</td>\n",
       "      <td>NaN</td>\n",
       "      <td>NaN</td>\n",
       "      <td>NaN</td>\n",
       "      <td>NaN</td>\n",
       "      <td>NaN</td>\n",
       "      <td>18.253592</td>\n",
       "      <td>4.007352e+04</td>\n",
       "      <td>11.514164</td>\n",
       "      <td>11.507022</td>\n",
       "      <td>18.606679</td>\n",
       "      <td>NaN</td>\n",
       "    </tr>\n",
       "  </tbody>\n",
       "</table>\n",
       "</div>"
      ],
      "text/plain": [
       "              app_id  title                   date_release    win    mac  \\\n",
       "count   5.087200e+04  50872                          50872  50872  50872   \n",
       "unique           NaN  50751                            NaN      2      2   \n",
       "top              NaN   Loop                            NaN   True  False   \n",
       "freq             NaN      4                            NaN  50076  37854   \n",
       "mean    1.055224e+06    NaN  2019-03-13 03:53:57.112753664    NaN    NaN   \n",
       "min     1.000000e+01    NaN            1997-06-30 00:00:00    NaN    NaN   \n",
       "25%     5.287375e+05    NaN            2017-03-21 00:00:00    NaN    NaN   \n",
       "50%     9.860850e+05    NaN            2019-08-23 00:00:00    NaN    NaN   \n",
       "75%     1.524895e+06    NaN            2021-09-21 00:00:00    NaN    NaN   \n",
       "max     2.599300e+06    NaN            2023-10-24 00:00:00    NaN    NaN   \n",
       "std     6.103249e+05    NaN                            NaN    NaN    NaN   \n",
       "\n",
       "        linux    rating  positive_ratio  user_reviews   price_final  \\\n",
       "count   50872     50872    50872.000000  5.087200e+04  50872.000000   \n",
       "unique      2         9             NaN           NaN           NaN   \n",
       "top     False  Positive             NaN           NaN           NaN   \n",
       "freq    41831     13502             NaN           NaN           NaN   \n",
       "mean      NaN       NaN       77.052033  1.824425e+03      8.620325   \n",
       "min       NaN       NaN        0.000000  1.000000e+01      0.000000   \n",
       "25%       NaN       NaN       67.000000  1.900000e+01      0.990000   \n",
       "50%       NaN       NaN       81.000000  4.900000e+01      4.990000   \n",
       "75%       NaN       NaN       91.000000  2.060000e+02     10.990000   \n",
       "max       NaN       NaN      100.000000  7.494460e+06    299.989990   \n",
       "std       NaN       NaN       18.253592  4.007352e+04     11.514164   \n",
       "\n",
       "        price_original      discount steam_deck  \n",
       "count     50872.000000  50872.000000      50872  \n",
       "unique             NaN           NaN          2  \n",
       "top                NaN           NaN       True  \n",
       "freq               NaN           NaN      50870  \n",
       "mean          8.726789      5.592212        NaN  \n",
       "min           0.000000      0.000000        NaN  \n",
       "25%           0.990000      0.000000        NaN  \n",
       "50%           4.990000      0.000000        NaN  \n",
       "75%          11.990000      0.000000        NaN  \n",
       "max         299.989990     90.000000        NaN  \n",
       "std          11.507022     18.606679        NaN  "
      ]
     },
     "execution_count": 87,
     "metadata": {},
     "output_type": "execute_result"
    }
   ],
   "source": [
    "games_df.describe(include='all')"
   ]
  },
  {
   "cell_type": "code",
   "execution_count": 88,
   "id": "d4cee2eb",
   "metadata": {},
   "outputs": [
    {
     "data": {
      "text/plain": [
       "app_id            0\n",
       "title             0\n",
       "date_release      0\n",
       "win               0\n",
       "mac               0\n",
       "linux             0\n",
       "rating            0\n",
       "positive_ratio    0\n",
       "user_reviews      0\n",
       "price_final       0\n",
       "price_original    0\n",
       "discount          0\n",
       "steam_deck        0\n",
       "dtype: int64"
      ]
     },
     "execution_count": 88,
     "metadata": {},
     "output_type": "execute_result"
    }
   ],
   "source": [
    "games_df.isnull().sum()"
   ]
  },
  {
   "cell_type": "code",
   "execution_count": 89,
   "id": "5fc8cd40",
   "metadata": {
    "scrolled": false
   },
   "outputs": [
    {
     "data": {
      "text/plain": [
       "Index(['app_id', 'title', 'date_release', 'win', 'mac', 'linux', 'rating',\n",
       "       'positive_ratio', 'user_reviews', 'price_final', 'price_original',\n",
       "       'discount', 'steam_deck'],\n",
       "      dtype='object')"
      ]
     },
     "execution_count": 89,
     "metadata": {},
     "output_type": "execute_result"
    }
   ],
   "source": [
    "games_df.columns"
   ]
  },
  {
   "cell_type": "code",
   "execution_count": 90,
   "id": "066cf954",
   "metadata": {
    "scrolled": true
   },
   "outputs": [
    {
     "data": {
      "text/plain": [
       "win\n",
       "True     50076\n",
       "False      796\n",
       "Name: count, dtype: int64"
      ]
     },
     "execution_count": 90,
     "metadata": {},
     "output_type": "execute_result"
    }
   ],
   "source": [
    "games_df['win'].value_counts()"
   ]
  },
  {
   "cell_type": "code",
   "execution_count": 91,
   "id": "9cd72ce9",
   "metadata": {},
   "outputs": [
    {
     "data": {
      "text/plain": [
       "mac\n",
       "False    37854\n",
       "True     13018\n",
       "Name: count, dtype: int64"
      ]
     },
     "execution_count": 91,
     "metadata": {},
     "output_type": "execute_result"
    }
   ],
   "source": [
    "games_df['mac'].value_counts()"
   ]
  },
  {
   "cell_type": "code",
   "execution_count": 92,
   "id": "e9e8f681",
   "metadata": {},
   "outputs": [
    {
     "data": {
      "text/plain": [
       "linux\n",
       "False    41831\n",
       "True      9041\n",
       "Name: count, dtype: int64"
      ]
     },
     "execution_count": 92,
     "metadata": {},
     "output_type": "execute_result"
    }
   ],
   "source": [
    "games_df['linux'].value_counts()"
   ]
  },
  {
   "cell_type": "code",
   "execution_count": 93,
   "id": "ac48cec6",
   "metadata": {
    "scrolled": false
   },
   "outputs": [
    {
     "data": {
      "image/png": "[encoded data removed]",
      "text/plain": [
       "<Figure size 800x600 with 1 Axes>"
      ]
     },
     "metadata": {},
     "output_type": "display_data"
    }
   ],
   "source": [
    "# Data\n",
    "platforms = ['Windows', 'Mac', 'Linux']\n",
    "num_games = [50076, 13018, 9041]  # Replace these with actual counts\n",
    "\n",
    "# Create bar plot\n",
    "plt.figure(figsize=(8, 6))\n",
    "custom_palette = ['#D6DAC8', '#D37676', '#F1EF99']\n",
    "plt.bar(platforms, num_games, color=custom_palette)\n",
    "plt.xlabel('Platforms')\n",
    "plt.ylabel('Number of Games')\n",
    "plt.title('Number of Games Available on Different Platforms')\n",
    "plt.show()"
   ]
  },
  {
   "cell_type": "markdown",
   "id": "cce536e3",
   "metadata": {},
   "source": [
    "Create a bar plot to compare the number of games available on Windows, Mac, and Linux platforms, providing insights into platform compatibility. Where we can see that most of the games are available only for the Windows platform"
   ]
  },
  {
   "cell_type": "code",
   "execution_count": 94,
   "id": "65d11df7",
   "metadata": {
    "scrolled": true
   },
   "outputs": [
    {
     "name": "stdout",
     "output_type": "stream",
     "text": [
      "Unique ratings: ['Very Positive' 'Positive' 'Mixed' 'Mostly Positive'\n",
      " 'Overwhelmingly Positive' 'Negative' 'Mostly Negative'\n",
      " 'Overwhelmingly Negative' 'Very Negative']\n"
     ]
    }
   ],
   "source": [
    "unique_ratings = games_df['rating'].unique()\n",
    "\n",
    "print(\"Unique ratings:\", unique_ratings)"
   ]
  },
  {
   "cell_type": "code",
   "execution_count": 95,
   "id": "e4f37503",
   "metadata": {
    "scrolled": true
   },
   "outputs": [
    {
     "data": {
      "image/png": "[encoded data removed]",
      "text/plain": [
       "<Figure size 800x600 with 1 Axes>"
      ]
     },
     "metadata": {},
     "output_type": "display_data"
    }
   ],
   "source": [
    "# Sample ratings data (replace with actual ratings data)\n",
    "ratings = ['Very Positive', 'Positive', 'Mixed', 'Mostly Positive',\n",
    " 'Overwhelmingly Positive','Negative','Mostly Negative','Overwhelmingly Negative','Very Negative']\n",
    "\n",
    "# Convert ratings to a Pandas Series\n",
    "ratings_series = pd.Series(ratings)\n",
    "\n",
    "# Calculate frequency of each rating\n",
    "rating_counts = ratings_series.value_counts()\n",
    "\n",
    "# Create bar plot\n",
    "plt.figure(figsize=(8, 6))\n",
    "rating_counts.plot(kind='bar', color='skyblue', edgecolor='black', alpha=0.7)\n",
    "plt.xlabel('Rating')\n",
    "plt.ylabel('Frequency')\n",
    "plt.title('Frequency Distribution of Ratings')\n",
    "plt.xticks(rotation=45) \n",
    "plt.grid(axis='y')  \n",
    "plt.tight_layout()  \n",
    "plt.show()"
   ]
  },
  {
   "cell_type": "markdown",
   "id": "cec57b8a",
   "metadata": {},
   "source": [
    "Visualize the distribution of game ratings using a histogram to understand the frequency distribution of different rating values' write a code for this"
   ]
  },
  {
   "cell_type": "code",
   "execution_count": 96,
   "id": "fc4d0100",
   "metadata": {},
   "outputs": [
    {
     "data": {
      "text/plain": [
       "(14306064, 3)"
      ]
     },
     "execution_count": 96,
     "metadata": {},
     "output_type": "execute_result"
    }
   ],
   "source": [
    "# Users Data\n",
    "users_df.shape"
   ]
  },
  {
   "cell_type": "code",
   "execution_count": 97,
   "id": "4127c435",
   "metadata": {},
   "outputs": [
    {
     "data": {
      "text/plain": [
       "user_id     int32\n",
       "products    int32\n",
       "reviews     int32\n",
       "dtype: object"
      ]
     },
     "execution_count": 97,
     "metadata": {},
     "output_type": "execute_result"
    }
   ],
   "source": [
    "users_df.dtypes"
   ]
  },
  {
   "cell_type": "code",
   "execution_count": 98,
   "id": "30fe7b88",
   "metadata": {},
   "outputs": [
    {
     "data": {
      "text/html": [
       "<div>\n",
       "<style scoped>\n",
       "    .dataframe tbody tr th:only-of-type {\n",
       "        vertical-align: middle;\n",
       "    }\n",
       "\n",
       "    .dataframe tbody tr th {\n",
       "        vertical-align: top;\n",
       "    }\n",
       "\n",
       "    .dataframe thead th {\n",
       "        text-align: right;\n",
       "    }\n",
       "</style>\n",
       "<table border=\"1\" class=\"dataframe\">\n",
       "  <thead>\n",
       "    <tr style=\"text-align: right;\">\n",
       "      <th></th>\n",
       "      <th>user_id</th>\n",
       "      <th>products</th>\n",
       "      <th>reviews</th>\n",
       "    </tr>\n",
       "  </thead>\n",
       "  <tbody>\n",
       "    <tr>\n",
       "      <th>count</th>\n",
       "      <td>1.430606e+07</td>\n",
       "      <td>1.430606e+07</td>\n",
       "      <td>1.430606e+07</td>\n",
       "    </tr>\n",
       "    <tr>\n",
       "      <th>mean</th>\n",
       "      <td>7.153032e+06</td>\n",
       "      <td>1.163734e+02</td>\n",
       "      <td>2.876738e+00</td>\n",
       "    </tr>\n",
       "    <tr>\n",
       "      <th>std</th>\n",
       "      <td>4.129805e+06</td>\n",
       "      <td>2.438515e+02</td>\n",
       "      <td>7.987421e+00</td>\n",
       "    </tr>\n",
       "    <tr>\n",
       "      <th>min</th>\n",
       "      <td>0.000000e+00</td>\n",
       "      <td>0.000000e+00</td>\n",
       "      <td>0.000000e+00</td>\n",
       "    </tr>\n",
       "    <tr>\n",
       "      <th>25%</th>\n",
       "      <td>3.576516e+06</td>\n",
       "      <td>2.300000e+01</td>\n",
       "      <td>1.000000e+00</td>\n",
       "    </tr>\n",
       "    <tr>\n",
       "      <th>50%</th>\n",
       "      <td>7.153032e+06</td>\n",
       "      <td>5.500000e+01</td>\n",
       "      <td>1.000000e+00</td>\n",
       "    </tr>\n",
       "    <tr>\n",
       "      <th>75%</th>\n",
       "      <td>1.072955e+07</td>\n",
       "      <td>1.270000e+02</td>\n",
       "      <td>3.000000e+00</td>\n",
       "    </tr>\n",
       "    <tr>\n",
       "      <th>max</th>\n",
       "      <td>1.430606e+07</td>\n",
       "      <td>3.221400e+04</td>\n",
       "      <td>6.045000e+03</td>\n",
       "    </tr>\n",
       "  </tbody>\n",
       "</table>\n",
       "</div>"
      ],
      "text/plain": [
       "            user_id      products       reviews\n",
       "count  1.430606e+07  1.430606e+07  1.430606e+07\n",
       "mean   7.153032e+06  1.163734e+02  2.876738e+00\n",
       "std    4.129805e+06  2.438515e+02  7.987421e+00\n",
       "min    0.000000e+00  0.000000e+00  0.000000e+00\n",
       "25%    3.576516e+06  2.300000e+01  1.000000e+00\n",
       "50%    7.153032e+06  5.500000e+01  1.000000e+00\n",
       "75%    1.072955e+07  1.270000e+02  3.000000e+00\n",
       "max    1.430606e+07  3.221400e+04  6.045000e+03"
      ]
     },
     "execution_count": 98,
     "metadata": {},
     "output_type": "execute_result"
    }
   ],
   "source": [
    "users_df.describe(include='all')"
   ]
  },
  {
   "cell_type": "code",
   "execution_count": 99,
   "id": "75b5ecf6",
   "metadata": {
    "scrolled": false
   },
   "outputs": [
    {
     "data": {
      "text/plain": [
       "user_id     0\n",
       "products    0\n",
       "reviews     0\n",
       "dtype: int64"
      ]
     },
     "execution_count": 99,
     "metadata": {},
     "output_type": "execute_result"
    }
   ],
   "source": [
    "users_df.isnull().sum()"
   ]
  },
  {
   "cell_type": "code",
   "execution_count": 100,
   "id": "6eb40d98",
   "metadata": {},
   "outputs": [
    {
     "data": {
      "text/plain": [
       "Index(['user_id', 'products', 'reviews'], dtype='object')"
      ]
     },
     "execution_count": 100,
     "metadata": {},
     "output_type": "execute_result"
    }
   ],
   "source": [
    "users_df.columns"
   ]
  },
  {
   "cell_type": "code",
   "execution_count": 101,
   "id": "03979a44",
   "metadata": {},
   "outputs": [
    {
     "data": {
      "text/plain": [
       "(1048575, 8)"
      ]
     },
     "execution_count": 101,
     "metadata": {},
     "output_type": "execute_result"
    }
   ],
   "source": [
    "# Recommendations Data\n",
    "recommendations_df.shape"
   ]
  },
  {
   "cell_type": "code",
   "execution_count": 102,
   "id": "7207ea0b",
   "metadata": {
    "scrolled": true
   },
   "outputs": [
    {
     "data": {
      "text/plain": [
       "app_id              int32\n",
       "helpful             int32\n",
       "funny               int32\n",
       "date               object\n",
       "is_recommended       bool\n",
       "hours             float32\n",
       "user_id             int32\n",
       "review_id           int32\n",
       "dtype: object"
      ]
     },
     "execution_count": 102,
     "metadata": {},
     "output_type": "execute_result"
    }
   ],
   "source": [
    "recommendations_df.dtypes"
   ]
  },
  {
   "cell_type": "code",
   "execution_count": 103,
   "id": "0e14eee3",
   "metadata": {},
   "outputs": [],
   "source": [
    "# Converting  the date_release columns to Datatime object\n",
    "# recommendations_df['date']=pd.to_datetime(recommendations_df['date'])"
   ]
  },
  {
   "cell_type": "code",
   "execution_count": 104,
   "id": "01eefc0f",
   "metadata": {},
   "outputs": [
    {
     "data": {
      "text/plain": [
       "app_id              int32\n",
       "helpful             int32\n",
       "funny               int32\n",
       "date               object\n",
       "is_recommended       bool\n",
       "hours             float32\n",
       "user_id             int32\n",
       "review_id           int32\n",
       "dtype: object"
      ]
     },
     "execution_count": 104,
     "metadata": {},
     "output_type": "execute_result"
    }
   ],
   "source": [
    "recommendations_df.dtypes"
   ]
  },
  {
   "cell_type": "code",
   "execution_count": 105,
   "id": "36a6c4f1",
   "metadata": {},
   "outputs": [
    {
     "data": {
      "text/html": [
       "<div>\n",
       "<style scoped>\n",
       "    .dataframe tbody tr th:only-of-type {\n",
       "        vertical-align: middle;\n",
       "    }\n",
       "\n",
       "    .dataframe tbody tr th {\n",
       "        vertical-align: top;\n",
       "    }\n",
       "\n",
       "    .dataframe thead th {\n",
       "        text-align: right;\n",
       "    }\n",
       "</style>\n",
       "<table border=\"1\" class=\"dataframe\">\n",
       "  <thead>\n",
       "    <tr style=\"text-align: right;\">\n",
       "      <th></th>\n",
       "      <th>app_id</th>\n",
       "      <th>helpful</th>\n",
       "      <th>funny</th>\n",
       "      <th>date</th>\n",
       "      <th>is_recommended</th>\n",
       "      <th>hours</th>\n",
       "      <th>user_id</th>\n",
       "      <th>review_id</th>\n",
       "    </tr>\n",
       "  </thead>\n",
       "  <tbody>\n",
       "    <tr>\n",
       "      <th>count</th>\n",
       "      <td>1.048575e+06</td>\n",
       "      <td>1.048575e+06</td>\n",
       "      <td>1.048575e+06</td>\n",
       "      <td>1048575</td>\n",
       "      <td>1048575</td>\n",
       "      <td>1.048575e+06</td>\n",
       "      <td>1.048575e+06</td>\n",
       "      <td>1.048575e+06</td>\n",
       "    </tr>\n",
       "    <tr>\n",
       "      <th>unique</th>\n",
       "      <td>NaN</td>\n",
       "      <td>NaN</td>\n",
       "      <td>NaN</td>\n",
       "      <td>4061</td>\n",
       "      <td>2</td>\n",
       "      <td>NaN</td>\n",
       "      <td>NaN</td>\n",
       "      <td>NaN</td>\n",
       "    </tr>\n",
       "    <tr>\n",
       "      <th>top</th>\n",
       "      <td>NaN</td>\n",
       "      <td>NaN</td>\n",
       "      <td>NaN</td>\n",
       "      <td>22-11-2022</td>\n",
       "      <td>True</td>\n",
       "      <td>NaN</td>\n",
       "      <td>NaN</td>\n",
       "      <td>NaN</td>\n",
       "    </tr>\n",
       "    <tr>\n",
       "      <th>freq</th>\n",
       "      <td>NaN</td>\n",
       "      <td>NaN</td>\n",
       "      <td>NaN</td>\n",
       "      <td>5760</td>\n",
       "      <td>886223</td>\n",
       "      <td>NaN</td>\n",
       "      <td>NaN</td>\n",
       "      <td>NaN</td>\n",
       "    </tr>\n",
       "    <tr>\n",
       "      <th>mean</th>\n",
       "      <td>6.196774e+05</td>\n",
       "      <td>3.344574e+00</td>\n",
       "      <td>1.142080e+00</td>\n",
       "      <td>NaN</td>\n",
       "      <td>NaN</td>\n",
       "      <td>2.012187e+02</td>\n",
       "      <td>7.273806e+06</td>\n",
       "      <td>5.242870e+05</td>\n",
       "    </tr>\n",
       "    <tr>\n",
       "      <th>std</th>\n",
       "      <td>5.058972e+05</td>\n",
       "      <td>5.968650e+01</td>\n",
       "      <td>3.412487e+01</td>\n",
       "      <td>NaN</td>\n",
       "      <td>NaN</td>\n",
       "      <td>2.368035e+02</td>\n",
       "      <td>4.086430e+06</td>\n",
       "      <td>3.026977e+05</td>\n",
       "    </tr>\n",
       "    <tr>\n",
       "      <th>min</th>\n",
       "      <td>4.400000e+02</td>\n",
       "      <td>0.000000e+00</td>\n",
       "      <td>0.000000e+00</td>\n",
       "      <td>NaN</td>\n",
       "      <td>NaN</td>\n",
       "      <td>0.000000e+00</td>\n",
       "      <td>2.000000e+00</td>\n",
       "      <td>0.000000e+00</td>\n",
       "    </tr>\n",
       "    <tr>\n",
       "      <th>25%</th>\n",
       "      <td>2.557100e+05</td>\n",
       "      <td>0.000000e+00</td>\n",
       "      <td>0.000000e+00</td>\n",
       "      <td>NaN</td>\n",
       "      <td>NaN</td>\n",
       "      <td>3.090000e+01</td>\n",
       "      <td>3.842548e+06</td>\n",
       "      <td>2.621435e+05</td>\n",
       "    </tr>\n",
       "    <tr>\n",
       "      <th>50%</th>\n",
       "      <td>3.943600e+05</td>\n",
       "      <td>0.000000e+00</td>\n",
       "      <td>0.000000e+00</td>\n",
       "      <td>NaN</td>\n",
       "      <td>NaN</td>\n",
       "      <td>1.003000e+02</td>\n",
       "      <td>7.212169e+06</td>\n",
       "      <td>5.242870e+05</td>\n",
       "    </tr>\n",
       "    <tr>\n",
       "      <th>75%</th>\n",
       "      <td>1.091500e+06</td>\n",
       "      <td>0.000000e+00</td>\n",
       "      <td>0.000000e+00</td>\n",
       "      <td>NaN</td>\n",
       "      <td>NaN</td>\n",
       "      <td>2.850000e+02</td>\n",
       "      <td>1.109478e+07</td>\n",
       "      <td>7.864305e+05</td>\n",
       "    </tr>\n",
       "    <tr>\n",
       "      <th>max</th>\n",
       "      <td>2.208920e+06</td>\n",
       "      <td>1.616300e+04</td>\n",
       "      <td>8.818000e+03</td>\n",
       "      <td>NaN</td>\n",
       "      <td>NaN</td>\n",
       "      <td>9.999000e+02</td>\n",
       "      <td>1.430601e+07</td>\n",
       "      <td>1.048574e+06</td>\n",
       "    </tr>\n",
       "  </tbody>\n",
       "</table>\n",
       "</div>"
      ],
      "text/plain": [
       "              app_id       helpful         funny        date is_recommended  \\\n",
       "count   1.048575e+06  1.048575e+06  1.048575e+06     1048575        1048575   \n",
       "unique           NaN           NaN           NaN        4061              2   \n",
       "top              NaN           NaN           NaN  22-11-2022           True   \n",
       "freq             NaN           NaN           NaN        5760         886223   \n",
       "mean    6.196774e+05  3.344574e+00  1.142080e+00         NaN            NaN   \n",
       "std     5.058972e+05  5.968650e+01  3.412487e+01         NaN            NaN   \n",
       "min     4.400000e+02  0.000000e+00  0.000000e+00         NaN            NaN   \n",
       "25%     2.557100e+05  0.000000e+00  0.000000e+00         NaN            NaN   \n",
       "50%     3.943600e+05  0.000000e+00  0.000000e+00         NaN            NaN   \n",
       "75%     1.091500e+06  0.000000e+00  0.000000e+00         NaN            NaN   \n",
       "max     2.208920e+06  1.616300e+04  8.818000e+03         NaN            NaN   \n",
       "\n",
       "               hours       user_id     review_id  \n",
       "count   1.048575e+06  1.048575e+06  1.048575e+06  \n",
       "unique           NaN           NaN           NaN  \n",
       "top              NaN           NaN           NaN  \n",
       "freq             NaN           NaN           NaN  \n",
       "mean    2.012187e+02  7.273806e+06  5.242870e+05  \n",
       "std     2.368035e+02  4.086430e+06  3.026977e+05  \n",
       "min     0.000000e+00  2.000000e+00  0.000000e+00  \n",
       "25%     3.090000e+01  3.842548e+06  2.621435e+05  \n",
       "50%     1.003000e+02  7.212169e+06  5.242870e+05  \n",
       "75%     2.850000e+02  1.109478e+07  7.864305e+05  \n",
       "max     9.999000e+02  1.430601e+07  1.048574e+06  "
      ]
     },
     "execution_count": 105,
     "metadata": {},
     "output_type": "execute_result"
    }
   ],
   "source": [
    "recommendations_df.describe(include='all')"
   ]
  },
  {
   "cell_type": "code",
   "execution_count": 106,
   "id": "7c5fbb77",
   "metadata": {
    "scrolled": false
   },
   "outputs": [
    {
     "data": {
      "text/plain": [
       "app_id            0\n",
       "helpful           0\n",
       "funny             0\n",
       "date              0\n",
       "is_recommended    0\n",
       "hours             0\n",
       "user_id           0\n",
       "review_id         0\n",
       "dtype: int64"
      ]
     },
     "execution_count": 106,
     "metadata": {},
     "output_type": "execute_result"
    }
   ],
   "source": [
    "recommendations_df.isnull().sum()"
   ]
  },
  {
   "cell_type": "code",
   "execution_count": 107,
   "id": "2136ba35",
   "metadata": {},
   "outputs": [
    {
     "data": {
      "text/plain": [
       "Index(['app_id', 'helpful', 'funny', 'date', 'is_recommended', 'hours',\n",
       "       'user_id', 'review_id'],\n",
       "      dtype='object')"
      ]
     },
     "execution_count": 107,
     "metadata": {},
     "output_type": "execute_result"
    }
   ],
   "source": [
    "recommendations_df.columns"
   ]
  },
  {
   "cell_type": "code",
   "execution_count": 108,
   "id": "4ee80bd1",
   "metadata": {},
   "outputs": [
    {
     "data": {
      "image/png": "[encoded data removed]",
      "text/plain": [
       "<Figure size 800x600 with 1 Axes>"
      ]
     },
     "metadata": {},
     "output_type": "display_data"
    }
   ],
   "source": [
    "recommendations = ['true','false']\n",
    "\n",
    "# Count the number of recommendations\n",
    "recommended_count = recommendations.count('true')\n",
    "not_recommended_count = recommendations.count('false')\n",
    "\n",
    "# Create labels and sizes for the pie chart\n",
    "labels = ['Recommended', 'Not Recommended']\n",
    "sizes = [recommended_count, not_recommended_count]\n",
    "\n",
    "# Create pie chart\n",
    "plt.figure(figsize=(8, 6))\n",
    "plt.pie(sizes, labels=labels, autopct='%1.1f%%', startangle=140)\n",
    "plt.title('Proportion of Recommendations Recommended by Users')\n",
    "plt.axis('equal')  # Equal aspect ratio ensures that pie is drawn as a circle\n",
    "plt.show()"
   ]
  },
  {
   "cell_type": "markdown",
   "id": "d3367f67",
   "metadata": {},
   "source": [
    "Using a pie chart to visualize the proportion of recommendations that are recommended by users vs. not recommended. This will provide an overview of user sentiment towards recommendations and we can see that there is a ratio of 1:1 in the recommended and not recommended class"
   ]
  },
  {
   "cell_type": "markdown",
   "id": "636a8857",
   "metadata": {},
   "source": [
    "# Model Building"
   ]
  },
  {
   "cell_type": "markdown",
   "id": "f9c5e322",
   "metadata": {},
   "source": [
    "## Collaborative Filtering\n",
    "Here, a user-user collaborative filtering model is built using K-Nearest Neighbors (KNN). This model recommends users who are similar to a given user"
   ]
  },
  {
   "cell_type": "code",
   "execution_count": 109,
   "id": "9ec89d0e",
   "metadata": {},
   "outputs": [
    {
     "name": "stdout",
     "output_type": "stream",
     "text": [
      "Recommended users for the first user are: [8373299, 9315434, 2293282, 13539268, 346241]\n"
     ]
    }
   ],
   "source": [
    "from scipy.sparse import coo_matrix\n",
    "\n",
    "# map each user and item to a unique numeric value\n",
    "user_ids = recommendations_df['user_id'].astype('category').cat.codes\n",
    "item_ids = recommendations_df['app_id'].astype('category').cat.codes\n",
    "\n",
    "# Get the unique user and game ids\n",
    "unique_user_ids = recommendations_df['user_id'].astype('category').cat.categories\n",
    "unique_item_ids = recommendations_df['app_id'].astype('category').cat.categories\n",
    "\n",
    "# create a sparse matrix\n",
    "user_game_matrix = coo_matrix((recommendations_df['hours'], (user_ids, item_ids)))\n",
    "\n",
    "# Fit the model\n",
    "model_knn = NearestNeighbors(metric='cosine', algorithm='brute')\n",
    "model_knn.fit(user_game_matrix)\n",
    "\n",
    "# Get top 5 recommendations for first user\n",
    "distances, indices = model_knn.kneighbors(user_game_matrix.getrow(0), n_neighbors=6)\n",
    "recommended_users = [unique_user_ids[i] for i in indices.flatten()[1:]]\n",
    "print(f'Recommended users for the first user are: {recommended_users}')"
   ]
  },
  {
   "cell_type": "markdown",
   "id": "8dffe34a",
   "metadata": {},
   "source": [
    "## Content-Based Filtering\n",
    "This section involves the construction of a content-based filtering model using TF-IDF vectorizer and cosine similarity. It recommends games that are similar to a given game based on their descriptions"
   ]
  },
  {
   "cell_type": "code",
   "execution_count": 117,
   "id": "8967ed05",
   "metadata": {},
   "outputs": [
    {
     "ename": "TypeError",
     "evalue": "no supported conversion for types: (dtype('O'),)",
     "output_type": "error",
     "traceback": [
      "\u001b[1;31m---------------------------------------------------------------------------\u001b[0m",
      "\u001b[1;31mTypeError\u001b[0m                                 Traceback (most recent call last)",
      "File \u001b[1;32mc:\\Users\\jaysh\\Desktop\\Code_Playground\\CP2 Game Recommendation\\venv\\Lib\\site-packages\\scipy\\sparse\\_base.py:426\u001b[0m, in \u001b[0;36m_spbase.asformat\u001b[1;34m(self, format, copy)\u001b[0m\n\u001b[0;32m    425\u001b[0m \u001b[38;5;28;01mtry\u001b[39;00m:\n\u001b[1;32m--> 426\u001b[0m     \u001b[38;5;28;01mreturn\u001b[39;00m \u001b[43mconvert_method\u001b[49m\u001b[43m(\u001b[49m\u001b[43mcopy\u001b[49m\u001b[38;5;241;43m=\u001b[39;49m\u001b[43mcopy\u001b[49m\u001b[43m)\u001b[49m\n\u001b[0;32m    427\u001b[0m \u001b[38;5;28;01mexcept\u001b[39;00m \u001b[38;5;167;01mTypeError\u001b[39;00m:\n",
      "File \u001b[1;32mc:\\Users\\jaysh\\Desktop\\Code_Playground\\CP2 Game Recommendation\\venv\\Lib\\site-packages\\scipy\\sparse\\_coo.py:310\u001b[0m, in \u001b[0;36m_coo_base.tocsr\u001b[1;34m(self, copy)\u001b[0m\n\u001b[0;32m    309\u001b[0m indices \u001b[38;5;241m=\u001b[39m np\u001b[38;5;241m.\u001b[39mempty_like(col, dtype\u001b[38;5;241m=\u001b[39midx_dtype)\n\u001b[1;32m--> 310\u001b[0m data \u001b[38;5;241m=\u001b[39m np\u001b[38;5;241m.\u001b[39mempty_like(\u001b[38;5;28mself\u001b[39m\u001b[38;5;241m.\u001b[39mdata, dtype\u001b[38;5;241m=\u001b[39m\u001b[43mupcast\u001b[49m\u001b[43m(\u001b[49m\u001b[38;5;28;43mself\u001b[39;49m\u001b[38;5;241;43m.\u001b[39;49m\u001b[43mdtype\u001b[49m\u001b[43m)\u001b[49m)\n\u001b[0;32m    312\u001b[0m coo_tocsr(M, N, \u001b[38;5;28mself\u001b[39m\u001b[38;5;241m.\u001b[39mnnz, row, col, \u001b[38;5;28mself\u001b[39m\u001b[38;5;241m.\u001b[39mdata,\n\u001b[0;32m    313\u001b[0m           indptr, indices, data)\n",
      "File \u001b[1;32mc:\\Users\\jaysh\\Desktop\\Code_Playground\\CP2 Game Recommendation\\venv\\Lib\\site-packages\\scipy\\sparse\\_sputils.py:54\u001b[0m, in \u001b[0;36mupcast\u001b[1;34m(*args)\u001b[0m\n\u001b[0;32m     52\u001b[0m         \u001b[38;5;28;01mreturn\u001b[39;00m t\n\u001b[1;32m---> 54\u001b[0m \u001b[38;5;28;01mraise\u001b[39;00m \u001b[38;5;167;01mTypeError\u001b[39;00m(\u001b[38;5;124mf\u001b[39m\u001b[38;5;124m'\u001b[39m\u001b[38;5;124mno supported conversion for types: \u001b[39m\u001b[38;5;132;01m{\u001b[39;00margs\u001b[38;5;132;01m!r}\u001b[39;00m\u001b[38;5;124m'\u001b[39m)\n",
      "\u001b[1;31mTypeError\u001b[0m: no supported conversion for types: (dtype('O'),)",
      "\nDuring handling of the above exception, another exception occurred:\n",
      "\u001b[1;31mTypeError\u001b[0m                                 Traceback (most recent call last)",
      "Cell \u001b[1;32mIn[117], line 7\u001b[0m\n\u001b[0;32m      4\u001b[0m \u001b[38;5;66;03m# cosine_similarities = linear_kernel(tfidf_matrix, tfidf_matrix)\u001b[39;00m\n\u001b[0;32m      6\u001b[0m \u001b[38;5;28;01mfrom\u001b[39;00m \u001b[38;5;21;01mscipy\u001b[39;00m\u001b[38;5;21;01m.\u001b[39;00m\u001b[38;5;21;01msparse\u001b[39;00m \u001b[38;5;28;01mimport\u001b[39;00m csr_matrix\n\u001b[1;32m----> 7\u001b[0m sparse_matrix \u001b[38;5;241m=\u001b[39m \u001b[43mcsr_matrix\u001b[49m\u001b[43m(\u001b[49m\u001b[43mgames_df\u001b[49m\u001b[43m[\u001b[49m\u001b[38;5;124;43m'\u001b[39;49m\u001b[38;5;124;43mtitle\u001b[39;49m\u001b[38;5;124;43m'\u001b[39;49m\u001b[43m]\u001b[49m\u001b[43m)\u001b[49m\n\u001b[0;32m      9\u001b[0m \u001b[38;5;66;03m# Get top 5 recommendations for first game\u001b[39;00m\n\u001b[0;32m     10\u001b[0m \u001b[38;5;66;03m# similar_indices = cosine_similarities[0].argsort()[:-6:-1]\u001b[39;00m\n\u001b[0;32m     11\u001b[0m \u001b[38;5;66;03m# recommended_games = [games_df['title'].iloc[i] for i in similar_indices]\u001b[39;00m\n\u001b[0;32m     12\u001b[0m \u001b[38;5;66;03m# print(f'Recommended games for the first game are: {recommended_games}')\u001b[39;00m\n",
      "File \u001b[1;32mc:\\Users\\jaysh\\Desktop\\Code_Playground\\CP2 Game Recommendation\\venv\\Lib\\site-packages\\scipy\\sparse\\_compressed.py:85\u001b[0m, in \u001b[0;36m_cs_matrix.__init__\u001b[1;34m(self, arg1, shape, dtype, copy)\u001b[0m\n\u001b[0;32m     83\u001b[0m         msg \u001b[38;5;241m=\u001b[39m \u001b[38;5;124mf\u001b[39m\u001b[38;5;124m\"\u001b[39m\u001b[38;5;124munrecognized \u001b[39m\u001b[38;5;132;01m{\u001b[39;00m\u001b[38;5;28mself\u001b[39m\u001b[38;5;241m.\u001b[39mformat\u001b[38;5;132;01m}\u001b[39;00m\u001b[38;5;124m_matrix constructor usage\u001b[39m\u001b[38;5;124m\"\u001b[39m\n\u001b[0;32m     84\u001b[0m         \u001b[38;5;28;01mraise\u001b[39;00m \u001b[38;5;167;01mValueError\u001b[39;00m(msg) \u001b[38;5;28;01mfrom\u001b[39;00m \u001b[38;5;21;01me\u001b[39;00m\n\u001b[1;32m---> 85\u001b[0m     \u001b[38;5;28mself\u001b[39m\u001b[38;5;241m.\u001b[39m_set_self(\u001b[38;5;28;43mself\u001b[39;49m\u001b[38;5;241;43m.\u001b[39;49m\u001b[38;5;18;43m__class__\u001b[39;49m\u001b[43m(\u001b[49m\n\u001b[0;32m     86\u001b[0m \u001b[43m        \u001b[49m\u001b[38;5;28;43mself\u001b[39;49m\u001b[38;5;241;43m.\u001b[39;49m\u001b[43m_coo_container\u001b[49m\u001b[43m(\u001b[49m\u001b[43marg1\u001b[49m\u001b[43m,\u001b[49m\u001b[43m \u001b[49m\u001b[43mdtype\u001b[49m\u001b[38;5;241;43m=\u001b[39;49m\u001b[43mdtype\u001b[49m\u001b[43m)\u001b[49m\n\u001b[0;32m     87\u001b[0m \u001b[43m    \u001b[49m\u001b[43m)\u001b[49m)\n\u001b[0;32m     89\u001b[0m \u001b[38;5;66;03m# Read matrix dimensions given, if any\u001b[39;00m\n\u001b[0;32m     90\u001b[0m \u001b[38;5;28;01mif\u001b[39;00m shape \u001b[38;5;129;01mis\u001b[39;00m \u001b[38;5;129;01mnot\u001b[39;00m \u001b[38;5;28;01mNone\u001b[39;00m:\n",
      "File \u001b[1;32mc:\\Users\\jaysh\\Desktop\\Code_Playground\\CP2 Game Recommendation\\venv\\Lib\\site-packages\\scipy\\sparse\\_compressed.py:34\u001b[0m, in \u001b[0;36m_cs_matrix.__init__\u001b[1;34m(self, arg1, shape, dtype, copy)\u001b[0m\n\u001b[0;32m     32\u001b[0m         arg1 \u001b[38;5;241m=\u001b[39m arg1\u001b[38;5;241m.\u001b[39mcopy()\n\u001b[0;32m     33\u001b[0m     \u001b[38;5;28;01melse\u001b[39;00m:\n\u001b[1;32m---> 34\u001b[0m         arg1 \u001b[38;5;241m=\u001b[39m \u001b[43marg1\u001b[49m\u001b[38;5;241;43m.\u001b[39;49m\u001b[43masformat\u001b[49m\u001b[43m(\u001b[49m\u001b[38;5;28;43mself\u001b[39;49m\u001b[38;5;241;43m.\u001b[39;49m\u001b[43mformat\u001b[49m\u001b[43m)\u001b[49m\n\u001b[0;32m     35\u001b[0m     \u001b[38;5;28mself\u001b[39m\u001b[38;5;241m.\u001b[39m_set_self(arg1)\n\u001b[0;32m     37\u001b[0m \u001b[38;5;28;01melif\u001b[39;00m \u001b[38;5;28misinstance\u001b[39m(arg1, \u001b[38;5;28mtuple\u001b[39m):\n",
      "File \u001b[1;32mc:\\Users\\jaysh\\Desktop\\Code_Playground\\CP2 Game Recommendation\\venv\\Lib\\site-packages\\scipy\\sparse\\_base.py:428\u001b[0m, in \u001b[0;36m_spbase.asformat\u001b[1;34m(self, format, copy)\u001b[0m\n\u001b[0;32m    426\u001b[0m     \u001b[38;5;28;01mreturn\u001b[39;00m convert_method(copy\u001b[38;5;241m=\u001b[39mcopy)\n\u001b[0;32m    427\u001b[0m \u001b[38;5;28;01mexcept\u001b[39;00m \u001b[38;5;167;01mTypeError\u001b[39;00m:\n\u001b[1;32m--> 428\u001b[0m     \u001b[38;5;28;01mreturn\u001b[39;00m \u001b[43mconvert_method\u001b[49m\u001b[43m(\u001b[49m\u001b[43m)\u001b[49m\n",
      "File \u001b[1;32mc:\\Users\\jaysh\\Desktop\\Code_Playground\\CP2 Game Recommendation\\venv\\Lib\\site-packages\\scipy\\sparse\\_coo.py:310\u001b[0m, in \u001b[0;36m_coo_base.tocsr\u001b[1;34m(self, copy)\u001b[0m\n\u001b[0;32m    308\u001b[0m indptr \u001b[38;5;241m=\u001b[39m np\u001b[38;5;241m.\u001b[39mempty(M \u001b[38;5;241m+\u001b[39m \u001b[38;5;241m1\u001b[39m, dtype\u001b[38;5;241m=\u001b[39midx_dtype)\n\u001b[0;32m    309\u001b[0m indices \u001b[38;5;241m=\u001b[39m np\u001b[38;5;241m.\u001b[39mempty_like(col, dtype\u001b[38;5;241m=\u001b[39midx_dtype)\n\u001b[1;32m--> 310\u001b[0m data \u001b[38;5;241m=\u001b[39m np\u001b[38;5;241m.\u001b[39mempty_like(\u001b[38;5;28mself\u001b[39m\u001b[38;5;241m.\u001b[39mdata, dtype\u001b[38;5;241m=\u001b[39m\u001b[43mupcast\u001b[49m\u001b[43m(\u001b[49m\u001b[38;5;28;43mself\u001b[39;49m\u001b[38;5;241;43m.\u001b[39;49m\u001b[43mdtype\u001b[49m\u001b[43m)\u001b[49m)\n\u001b[0;32m    312\u001b[0m coo_tocsr(M, N, \u001b[38;5;28mself\u001b[39m\u001b[38;5;241m.\u001b[39mnnz, row, col, \u001b[38;5;28mself\u001b[39m\u001b[38;5;241m.\u001b[39mdata,\n\u001b[0;32m    313\u001b[0m           indptr, indices, data)\n\u001b[0;32m    315\u001b[0m x \u001b[38;5;241m=\u001b[39m \u001b[38;5;28mself\u001b[39m\u001b[38;5;241m.\u001b[39m_csr_container((data, indices, indptr), shape\u001b[38;5;241m=\u001b[39m\u001b[38;5;28mself\u001b[39m\u001b[38;5;241m.\u001b[39mshape)\n",
      "File \u001b[1;32mc:\\Users\\jaysh\\Desktop\\Code_Playground\\CP2 Game Recommendation\\venv\\Lib\\site-packages\\scipy\\sparse\\_sputils.py:54\u001b[0m, in \u001b[0;36mupcast\u001b[1;34m(*args)\u001b[0m\n\u001b[0;32m     51\u001b[0m         _upcast_memo[\u001b[38;5;28mhash\u001b[39m(args)] \u001b[38;5;241m=\u001b[39m t\n\u001b[0;32m     52\u001b[0m         \u001b[38;5;28;01mreturn\u001b[39;00m t\n\u001b[1;32m---> 54\u001b[0m \u001b[38;5;28;01mraise\u001b[39;00m \u001b[38;5;167;01mTypeError\u001b[39;00m(\u001b[38;5;124mf\u001b[39m\u001b[38;5;124m'\u001b[39m\u001b[38;5;124mno supported conversion for types: \u001b[39m\u001b[38;5;132;01m{\u001b[39;00margs\u001b[38;5;132;01m!r}\u001b[39;00m\u001b[38;5;124m'\u001b[39m)\n",
      "\u001b[1;31mTypeError\u001b[0m: no supported conversion for types: (dtype('O'),)"
     ]
    }
   ],
   "source": [
    "# Content-Based Filtering\n",
    "tf = TfidfVectorizer(analyzer='word', ngram_range=(1, 3), min_df=0.0, stop_words='english')\n",
    "tfidf_matrix = tf.fit_transform(games_df['title'])\n",
    "cosine_similarities = linear_kernel(tfidf_matrix, tfidf_matrix)\n",
    "\n",
    "# Get top 5 recommendations for first game\n",
    "similar_indices = cosine_similarities[0].argsort()[:-6:-1]\n",
    "recommended_games = [games_df['title'].iloc[i] for i in similar_indices]\n",
    "print(f'Recommended games for the first game are: {recommended_games}')"
   ]
  },
  {
   "cell_type": "markdown",
   "id": "9d7df8e2",
   "metadata": {},
   "source": [
    "## Hybrid System\n",
    "This section combines the collaborative and content-based filtering models to create a hybrid recommender system. It recommends games to a user that are liked by similar users and are also similar in content to the games the user likes."
   ]
  },
  {
   "cell_type": "code",
   "execution_count": 72,
   "id": "14111fa8",
   "metadata": {},
   "outputs": [],
   "source": [
    "import numpy as np\n",
    "\n",
    "def get_similar_users(user_id, user_game_matrix, model_knn, n_neighbors=6):\n",
    "    distances, indices = model_knn.kneighbors(user_game_matrix.getrow(user_id), n_neighbors=n_neighbors)\n",
    "    similar_users = [unique_user_ids[i] for i in indices.flatten()[1:]]\n",
    "    return similar_users\n",
    "\n",
    "# Get the unique game ids\n",
    "unique_game_ids = recommendations_df['app_id'].astype('category').cat.categories\n",
    "\n",
    "def get_similar_games(game_id, tfidf_matrix, n_neighbors=6):\n",
    "    # Find the positional index of the game_id\n",
    "    game_index = np.where(unique_game_ids == game_id)[0][0]\n",
    "    \n",
    "    cosine_similarities = linear_kernel(tfidf_matrix[game_index], tfidf_matrix).flatten()\n",
    "    similar_indices = cosine_similarities.argsort()[:-n_neighbors:-1]\n",
    "    similar_games = [games_df['title'].iloc[i] for i in similar_indices]\n",
    "    return similar_games\n",
    "\n",
    "def recommend_games(user_id):\n",
    "    similar_users = get_similar_users(user_id, user_game_matrix, model_knn)\n",
    "    similar_games = []\n",
    "    for user in similar_users:\n",
    "        user_games = recommendations_df[recommendations_df['user_id'] == user]['app_id'].unique()\n",
    "        for game_id in user_games:\n",
    "            similar_games.extend(get_similar_games(game_id, tfidf_matrix))\n",
    "    unique_game_titles = list(set(similar_games))\n",
    "    return unique_game_titles"
   ]
  },
  {
   "cell_type": "code",
   "execution_count": 73,
   "id": "2217afaf",
   "metadata": {},
   "outputs": [
    {
     "data": {
      "text/plain": [
       "['Horror Bar VR',\n",
       " 'High School Odyssey',\n",
       " 'Mission in Snowdriftland',\n",
       " 'FatalZone',\n",
       " 'Pinball FX3 - Williams™ Pinball: Volume 6']"
      ]
     },
     "execution_count": 73,
     "metadata": {},
     "output_type": "execute_result"
    }
   ],
   "source": [
    "recommend_games(726603)"
   ]
  },
  {
   "cell_type": "code",
   "execution_count": 59,
   "id": "aeef78f4",
   "metadata": {},
   "outputs": [
    {
     "ename": "MemoryError",
     "evalue": "",
     "output_type": "error",
     "traceback": [
      "\u001b[1;31m---------------------------------------------------------------------------\u001b[0m",
      "\u001b[1;31mMemoryError\u001b[0m                               Traceback (most recent call last)",
      "Cell \u001b[1;32mIn[59], line 6\u001b[0m\n\u001b[0;32m      4\u001b[0m pickle\u001b[38;5;241m.\u001b[39mdump(users_df,\u001b[38;5;28mopen\u001b[39m(\u001b[38;5;124m'\u001b[39m\u001b[38;5;124mCP2Dep/User_df.pkl\u001b[39m\u001b[38;5;124m'\u001b[39m,\u001b[38;5;124m'\u001b[39m\u001b[38;5;124mwb\u001b[39m\u001b[38;5;124m'\u001b[39m))\n\u001b[0;32m      5\u001b[0m pickle\u001b[38;5;241m.\u001b[39mdump(recommendations_df,\u001b[38;5;28mopen\u001b[39m(\u001b[38;5;124m'\u001b[39m\u001b[38;5;124mCP2Dep/Recommendation_df.pkl\u001b[39m\u001b[38;5;124m'\u001b[39m,\u001b[38;5;124m'\u001b[39m\u001b[38;5;124mwb\u001b[39m\u001b[38;5;124m'\u001b[39m))\n\u001b[1;32m----> 6\u001b[0m \u001b[43mpickle\u001b[49m\u001b[38;5;241;43m.\u001b[39;49m\u001b[43mdump\u001b[49m\u001b[43m(\u001b[49m\u001b[43mcosine_similarities\u001b[49m\u001b[43m,\u001b[49m\u001b[38;5;28;43mopen\u001b[39;49m\u001b[43m(\u001b[49m\u001b[38;5;124;43m'\u001b[39;49m\u001b[38;5;124;43mCP2Dep/similarity.pkl\u001b[39;49m\u001b[38;5;124;43m'\u001b[39;49m\u001b[43m,\u001b[49m\u001b[38;5;124;43m'\u001b[39;49m\u001b[38;5;124;43mwb\u001b[39;49m\u001b[38;5;124;43m'\u001b[39;49m\u001b[43m)\u001b[49m\u001b[43m)\u001b[49m\n",
      "\u001b[1;31mMemoryError\u001b[0m: "
     ]
    }
   ],
   "source": [
    "import pickle\n",
    "\n",
    "pickle.dump(games_df,open('CP2Dep/Game_df.pkl','wb'))\n",
    "pickle.dump(users_df,open('CP2Dep/User_df.pkl','wb'))\n",
    "pickle.dump(recommendations_df,open('CP2Dep/Recommendation_df.pkl','wb'))\n",
    "pickle.dump(cosine_similarities,open('CP2Dep/similarity.pkl','wb'))"
   ]
  },
  {
   "cell_type": "code",
   "execution_count": null,
   "id": "607d833f",
   "metadata": {},
   "outputs": [],
   "source": []
  }
 ],
 "metadata": {
  "kernelspec": {
   "display_name": "Python 3 (ipykernel)",
   "language": "python",
   "name": "python3"
  },
  "language_info": {
   "codemirror_mode": {
    "name": "ipython",
    "version": 3
   },
   "file_extension": ".py",
   "mimetype": "text/x-python",
   "name": "python",
   "nbconvert_exporter": "python",
   "pygments_lexer": "ipython3",
   "version": "3.12.2"
  }
 },
 "nbformat": 4,
 "nbformat_minor": 5
}
